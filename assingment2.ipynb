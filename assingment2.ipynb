{
 "cells": [
  {
   "cell_type": "code",
   "execution_count": null,
   "metadata": {},
   "outputs": [],
   "source": [
    "# Question1: Define the z-statistic and explain its relationship to the standard normal distribution. How is the z-statistic used in hypothesis testing?\n",
    "'''\n",
    "To convert the normal distribution into standard normal distribution we can z-score.\n",
    "process : first sabtract the by mean then devide it by standard deviation.\n",
    "in standard normal deviation the mean is always '0' and standard deviation is '1'.\n",
    "Use case: It is used in machine learning algorithms like logistic regression and linear regression.\n",
    "'''"
   ]
  },
  {
   "cell_type": "code",
   "execution_count": null,
   "metadata": {},
   "outputs": [],
   "source": [
    "# Question2 : What is a p-value, and how is it used in hypothesis testing? What does it mean if the p-value is very small (e.g., 0.01)?\n",
    "'''\n",
    "The p value is a number, calculated from a statistical test, that describes how likely you are to have found a particular set of observations if the null hypothesis were true. P values are used in hypothesis testing to help decide whether to reject the null hypothesis. The smaller the p value, the more likely you are to reject the null hypothesis.\n",
    "'''"
   ]
  },
  {
   "cell_type": "code",
   "execution_count": null,
   "metadata": {},
   "outputs": [],
   "source": [
    "# Question3: Compare and contrast the binomial and Bernoulli distributions. \n",
    "'''\n",
    "Bernouli distribution : A disrete probability distribution of a random veriable which takes only two outcomes. typically labelled as success (coded as 1) and failure (coded as 0) . which a fixed probability of succesors and failure's\n",
    "e.g: toss a coin\n",
    "\n",
    "Binomial Distribution : when number of trials are more and every trial have only two possible outcomes.\n",
    "e,g: toss a coin multiple times or toss multiple coins. \n",
    "'''"
   ]
  },
  {
   "cell_type": "code",
   "execution_count": null,
   "metadata": {},
   "outputs": [],
   "source": [
    "# Question 4: Under what conditions is the binomial distribution used, and how does it relate to the Bernoulli distribution?\n",
    "'''\n",
    "1. Each trial should be independant.\n",
    "2. Number of trial should be finite.\n",
    "3. Only two possible outcome.\n",
    "4. Probability of each output should be same in every trial.\n",
    "'''"
   ]
  },
  {
   "cell_type": "code",
   "execution_count": null,
   "metadata": {},
   "outputs": [],
   "source": [
    "# Question5: What are the key properties of the Poisson distribution, and when is it appropriate to use this distribution?\n",
    "'''\n",
    "The poisson distribution is a discrete probability distribution that describes the number of events that occurs within a fixed interval of time or space given a knownaverage ratio of occurence.\n",
    "mean of poisson distribution = average rate events X time\n",
    "variance is also same as mean.\n",
    "'''"
   ]
  },
  {
   "cell_type": "code",
   "execution_count": null,
   "metadata": {},
   "outputs": [],
   "source": [
    "# Question6: Define the terms \"probability distribution\" and \"probability density function\" (PDF). How does a PDF differ from a probability mass function (PMF)?\n",
    "'''\n",
    "Probability distribution have two types : 1.Discrete Uniform Probability Distribution 2.Conitinuous uniform probability distribution\n",
    "1.Disrete uniform probability distribution: When every trial probability are same then it is called uniform probability distribution.\n",
    "probability mass function : \n",
    "        outcome nature = discret random variable\n",
    "\n",
    "'''"
   ]
  },
  {
   "cell_type": "code",
   "execution_count": null,
   "metadata": {},
   "outputs": [],
   "source": [
    "# Question7: Explain the Central Limit Theorem (CLT) with example\n",
    "'''\n",
    "The CLT states that if you have a population with mean and standard deviation and take sufficiently large number of random samples from the population with replacement ,then the distribution of sample mean's will be approximately normally distributed.\n",
    "1.The number of samples should be large.\n",
    "2.The sample size should be grater than or equal to 30.\n",
    "'''"
   ]
  },
  {
   "cell_type": "code",
   "execution_count": null,
   "metadata": {},
   "outputs": [],
   "source": [
    "# Question8: Compare z-scores and t-scores. When should you use a z-score, and when should a t-score be applied instead?\n",
    "'''\n",
    "The t score can be used when the sample has: unknown population standard deviation, sample size less than 30. \n",
    "Whereas the z score is used when you know: the population standard deviation, the sample size is larger than 30.\n",
    "'''"
   ]
  },
  {
   "cell_type": "code",
   "execution_count": 1,
   "metadata": {},
   "outputs": [
    {
     "name": "stdout",
     "output_type": "stream",
     "text": [
      "Z-score:  1.6666666666666667\n",
      "P-value:  0.09558070454562939\n",
      "Fail to reject hypothesis\n"
     ]
    }
   ],
   "source": [
    "# Question9: Given a sample mean of 105, a population mean of 100, a standard deviation of 15, and a sample size of 25, calculate the z-score and p-value. Based on a significance level of 0.05, do you reject or fail to reject the null hypothesis? \n",
    "# Task: Write Python code to calculate the z-score and p-value for the given data. \n",
    "# Objective: Apply the formula for the z-score and interpret the p-value for hypothesis testing.\n",
    "import numpy as np\n",
    "from scipy import stats\n",
    "#calculate z-score\n",
    "sample_mean = 105\n",
    "population_mean = 100\n",
    "std = 15\n",
    "sample_size = 25\n",
    "z_score = (sample_mean - population_mean)/(std/(np.sqrt(sample_size)))\n",
    "print('Z-score: ',z_score)\n",
    "\n",
    "#p-value\n",
    "p_value = 2 *(1-stats.norm.cdf(abs(z_score)))\n",
    "print('P-value: ',p_value)\n",
    "\n",
    "#significance level\n",
    "significance_level = 0.05\n",
    "if p_value < significance_level:\n",
    "    print('Reject null hypothesis')\n",
    "else:\n",
    "    print(\"Fail to reject hypothesis\")\n"
   ]
  },
  {
   "cell_type": "code",
   "execution_count": 14,
   "metadata": {},
   "outputs": [
    {
     "name": "stdout",
     "output_type": "stream",
     "text": [
      "Expected mean:  6.0\n",
      "Expected variance:  2.4000000000000004\n",
      "Sample mean:  5.92\n",
      "Sample variance:  2.4956\n"
     ]
    },
    {
     "data": {
      "image/png": "[encoded data removed]",
      "text/plain": [
       "<Figure size 640x480 with 1 Axes>"
      ]
     },
     "metadata": {},
     "output_type": "display_data"
    }
   ],
   "source": [
    "# Question10: Simulate a binomial distribution with 10 trials and a probability of success of 0.6 using Python. Generate 1,000 samples and plot the distribution. What is the expected mean and variance? \n",
    "# Task: Use Python to generate the data, plot the distribution, and calculate the mean and variance.\n",
    "# Objective: Understand the properties of a binomial distribution and verify them through simulation.\n",
    "import matplotlib.pyplot as plt\n",
    "n = 10\n",
    "p = 0.6\n",
    "samples = 1000\n",
    "result = np.random.binomial(n , p,samples)\n",
    "\n",
    "#expected mean and variance\n",
    "exp_mean = n * p\n",
    "exp_variance = n * p* (1-p)\n",
    "print('Expected mean: ',exp_mean)\n",
    "print('Expected variance: ',exp_variance)\n",
    "\n",
    "#sample mean and variance\n",
    "sample_mean = np.mean(result)\n",
    "sample_varirance = np.var(result)\n",
    "print('Sample mean: ',sample_mean)\n",
    "print('Sample variance: ',sample_varirance)\n",
    "\n",
    "plt.hist(result , bins = range(11),rwidth =0.8 ,alpha = 0.7,align = 'left',color = 'skyblue',edgecolor = 'black')\n",
    "plt.xlabel('No. of success')\n",
    "plt.ylabel('frequency')\n",
    "plt.title('Binomial Distribution')\n",
    "plt.show()\n",
    "\n",
    "\n",
    "\n"
   ]
  },
  {
   "cell_type": "code",
   "execution_count": null,
   "metadata": {},
   "outputs": [],
   "source": []
  }
 ],
 "metadata": {
  "kernelspec": {
   "display_name": "base",
   "language": "python",
   "name": "python3"
  },
  "language_info": {
   "codemirror_mode": {
    "name": "ipython",
    "version": 3
   },
   "file_extension": ".py",
   "mimetype": "text/x-python",
   "name": "python",
   "nbconvert_exporter": "python",
   "pygments_lexer": "ipython3",
   "version": "3.11.5"
  }
 },
 "nbformat": 4,
 "nbformat_minor": 2
}
