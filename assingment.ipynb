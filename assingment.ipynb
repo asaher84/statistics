{
 "cells": [
  {
   "cell_type": "code",
   "execution_count": null,
   "metadata": {},
   "outputs": [],
   "source": [
    "# 1. Explain the different types of data (qualitative and quantitative) and provide examples of each. Discuss nominal, ordinal, interval, and ratio scales.\n",
    "\n",
    "'''\n",
    "types of qualitative: 1.Ordinal , 2.Nominal \n",
    "1.Oridnal : it is a qualitative data which have some order in categorical data.\n",
    "            example: Rank= (First, Second , Thrid)\n",
    "\n",
    "2.Nominal : it is a qualitative data type which have no order in categorical data.\n",
    "            example: gender=(Male , Female), Attendance = (Present , Abscent)\n",
    "        \n",
    "types of quantitative data: 1.Discrete , 2.Continuous\n",
    "1.Discrete: it is data quantitative data type wich take only whole numbers or finite numbers.we can not break it like 1/2  \n",
    "            example: 1 to 100 , or any whole number\n",
    "\n",
    "2.Continuous: it is data quantitative data type which are in range .\n",
    "            example: 1.2,1.3,1.4,1.5 or 1,2,3,4,5,6\n",
    "\n",
    "scales : \n",
    "1.Nominal: we scale nominal data on the count of words example: In gender how many Male and Female are present on that basis we can scale the nominal data. 5 Male and 2 Female , Nominal data is a labeled data\n",
    "\n",
    "2.Ordinal: Ordinal data has meaningful order , in ordinal data we can not measured the difference .\n",
    "example: in rank first , Second , Third we never measured the difference like First - Second\n",
    "\n",
    "3.Interval: Interval data has a meaningful order and difference can be measured. expception:Ratio,it doesnt have a compulsarily zero starting value .\n",
    "example : Score: 80,85,90  the difference beetween each value of score is 5\n",
    "\n",
    "4.Ratio: it does have a zero starting compulsarily. the ratio and difference are measureble\n",
    "example : Hight , Wight\n",
    "'''"
   ]
  },
  {
   "cell_type": "code",
   "execution_count": null,
   "metadata": {},
   "outputs": [],
   "source": [
    "# 2. What are the measures of central tendency, and when should you use each? Discuss the mean, median, and mode with examples and situations where each is appropriate.\n",
    "'''\n",
    "The measures of central tendency are mean , median , mode. it is used for replacing null values wich are present in dataset. \n",
    "mean and median is used for numerical data.\n",
    "mode is used for categorical data.\n",
    "\n",
    "1.Mean: summing up all values and devide it by number of values.\n",
    "mean is affected by outlier . so mean  is used when there is no outlier in data.\n",
    "\n",
    "2.Median: the physical mid point of data.\n",
    "sort the values.\n",
    "count number of elements.\n",
    "if the number of elements are even then take 2 middle elements and calculate its mean.\n",
    "median is not affected by outlier , so it used when the out;ier is present in data.\n",
    "\n",
    "Mode: The maximum frequent element. mode is value of which element have maximum frequency.\n",
    "Mode is used for categorical data.\n",
    "'''"
   ]
  },
  {
   "cell_type": "code",
   "execution_count": null,
   "metadata": {},
   "outputs": [],
   "source": [
    "# 3.Explain the concept of dispersion. How do variance and standard deviation measure the spread of data?\n",
    "'''\n",
    "Dispresion is type of discriptive. \n",
    "dispersion is statistical term that refers to how spread out a set of data is.\n",
    "\n",
    "1.Variance: The average of the squared difference from the mean.\n",
    "varian incerease spred also increase . \n",
    "spread decrease then variance is also decrease.\n",
    "\n",
    "2.Standard Deviation : it just a square root of variance .\n",
    "high standard deviation means high spread of data.\n",
    "low standard deviation means low spread of data.\n",
    "'''"
   ]
  },
  {
   "cell_type": "code",
   "execution_count": null,
   "metadata": {},
   "outputs": [],
   "source": [
    "# 4. What is a box plot, and what can it tell you about the distribution of data?\n",
    "'''\n",
    "box plot is used for data visualization to indentifying outliers.\n",
    "box plot have one upperfence and one lowerfence.\n",
    "the value which is not in the range of upperfence and lowerfence then this is a outlier.\n",
    "lowerfence = Q1 - 1.5*IQR\n",
    "upperfence = Q3 + 1.5*IQR\n",
    "'''"
   ]
  },
  {
   "cell_type": "code",
   "execution_count": null,
   "metadata": {},
   "outputs": [],
   "source": [
    "# 5. Discuss the role of random sampling in making inferences about populations.\n",
    "'''\n",
    "random sampling is used for inferential data .\n",
    "in random sampling each member of population has an equal chance of being selected in the sample.\n",
    "but in random sampling has not equal representation accros group.\n",
    "'''"
   ]
  },
  {
   "cell_type": "code",
   "execution_count": null,
   "metadata": {},
   "outputs": [],
   "source": [
    "# 6. Explain the concept of skewness and its types. How does skewness affect the interpretation of data?\n",
    "'''\n",
    "skewness is the measure of symmetricity.\n",
    "skewness types : \n",
    "Right Skewed Distribution: mode > median > mean\n",
    "Left Skewed Distribution: mean > median > mode\n",
    "\n",
    "the moderate skewed range is -1 to 1.\n",
    "\n",
    "'''"
   ]
  },
  {
   "cell_type": "code",
   "execution_count": null,
   "metadata": {},
   "outputs": [],
   "source": [
    "# 7. What is the interquartile range (IQR), and how is it used to detect outliers?\n",
    "'''\n",
    "interquartile range is used for detect outlier's. \n",
    "interquartile range is not affected by outlier.\n",
    "\n",
    "IQR = Q3 - Q1\n",
    "\n",
    "we can measured the upperfence and lowerfence using IQR\n",
    "\n",
    "lowerfence = Q1 - 1.5*IQR\n",
    "upperfence = Q3 + 1.5*IQR\n",
    "'''"
   ]
  },
  {
   "cell_type": "code",
   "execution_count": null,
   "metadata": {},
   "outputs": [],
   "source": [
    "# 8. Discuss the conditions under which the binomial distribution is used.\n",
    "'''\n",
    "The binomial distribution describes the behavior of a count variable X if the following conditions apply: 1: The number of observations n is fixed. 2: Each observation is independent. 3: Each observation represents one of two outcomes (\"success\" or \"failure\"). 4: The probability of \"success\" p is the same for each outcome.\n",
    "'''"
   ]
  },
  {
   "cell_type": "code",
   "execution_count": null,
   "metadata": {},
   "outputs": [],
   "source": [
    "# 9. Explain the properties of the normal distribution and the empirical rule (68-95-99.7 rule).\n",
    "'''\n",
    "When a variable follows a normal distribution, almost all of its values occur within three standard deviations from the mean. To be more precise, 68% of the values fall within one standard deviation, 95% within two, and 99.7% within three standard deviations from the mean. This is known as the Empirical Rule or 68-95-99.7 Rule\n",
    "'''"
   ]
  },
  {
   "cell_type": "code",
   "execution_count": null,
   "metadata": {},
   "outputs": [],
   "source": [
    "#  10. Provide a real-life example of a Poisson process and calculate the probability for a specific event.\n",
    "'''\n",
    "e.g Number of Network Failures per Week\n",
    "Technology companies use the Poisson distribution to model the number of expected network failures per week.\n",
    "\n",
    "For example, suppose a given company experiences an average of 1 network failure per week. We can use the Poisson distribution calculator to find the probability that the company experiences a certain number of network failures in a given week:\n",
    "\n",
    "P(X = 0 failures) = 0.36788\n",
    "P(X = 1 failure) = 0.36788\n",
    "P(X = 2 failures) = 0.18394\n",
    "'''"
   ]
  },
  {
   "cell_type": "code",
   "execution_count": null,
   "metadata": {},
   "outputs": [],
   "source": [
    "#  11. Explain what a random variable is and differentiate between discrete and continuous random variables.\n",
    "'''\n",
    "There are two types of Random Variables- Discrete and Continuous. A random variable is considered a discrete random variable when it takes specific, or distinct values within an interval. Conversely, if it takes a continuous range of values, then it is classified as a continuous random variable.\n",
    "'''"
   ]
  },
  {
   "cell_type": "code",
   "execution_count": 9,
   "metadata": {},
   "outputs": [
    {
     "name": "stdout",
     "output_type": "stream",
     "text": [
      "covariance of x and y is :  3.35\n",
      "covrelation of x and y is :  0.5710872584691573\n"
     ]
    }
   ],
   "source": [
    "#  12. Provide an example dataset, calculate both covariance and correlation, and interpret the results.\n",
    "import statistics\n",
    "\n",
    "x = [5,7,8,1,2]\n",
    "y = [6,4,3,1,2]\n",
    "\n",
    "result1 = statistics.covariance(x,y)\n",
    "result2 = statistics.correlation(x,y)\n",
    "\n",
    "print(\"covariance of x and y is : \",result1)\n",
    "print(\"covrelation of x and y is : \",result2)"
   ]
  }
 ],
 "metadata": {
  "kernelspec": {
   "display_name": "base",
   "language": "python",
   "name": "python3"
  },
  "language_info": {
   "codemirror_mode": {
    "name": "ipython",
    "version": 3
   },
   "file_extension": ".py",
   "mimetype": "text/x-python",
   "name": "python",
   "nbconvert_exporter": "python",
   "pygments_lexer": "ipython3",
   "version": "3.11.5"
  }
 },
 "nbformat": 4,
 "nbformat_minor": 2
}
