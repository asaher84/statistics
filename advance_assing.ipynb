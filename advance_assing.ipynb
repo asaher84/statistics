{
 "cells": [
  {
   "cell_type": "code",
   "execution_count": null,
   "metadata": {},
   "outputs": [],
   "source": [
    "#1. Explain the properties of the F-distribution.\n",
    "'''\n",
    "F-distribution is a probability distribution that is useful in the context of comparing variance of two or more sampple.\n",
    "F-distribution is used for comparing variance of two or more samples.\n",
    "It is right skewed .\n",
    "It takes only non-negative values.\n",
    "'''"
   ]
  },
  {
   "cell_type": "code",
   "execution_count": null,
   "metadata": {},
   "outputs": [],
   "source": [
    "# 2. In which types of statistical tests is the F-distribution used, and why is it appropriate for these tests?\n",
    "'''\n",
    "The F-test compares more than one level of independent variable with multiple groups, which uses the F distribution. This is generally used in ANOVA calculations. Always use F-distribution for F-test to compare more than two groups.\n",
    "'''"
   ]
  },
  {
   "cell_type": "code",
   "execution_count": null,
   "metadata": {},
   "outputs": [],
   "source": [
    "# 3. What are the key assumptions required for conducting an F-test to compare the variances of two populations?\n",
    "'''\n",
    "The population from which samples are drawn should be normally distributed.\n",
    "The sample should be independent of each other.\n",
    "Absence of outliers.\n",
    "Homogenity of variance.\n",
    "'''"
   ]
  },
  {
   "cell_type": "code",
   "execution_count": null,
   "metadata": {},
   "outputs": [],
   "source": [
    "# 4. What is the purpose of ANOVA, and how does it differ from a t-test? \n",
    "'''\n",
    "Anova is statistical method used to compare the means of 3 or more groups.\n",
    "we can used t-test for compare the means of 2 groups.\n",
    "one way anova: One factor with atleast two levels and levels are independent.\n",
    "Repeated measure anova: One factor with atleast two levels but levels are dependent.\n",
    "Factorial Anova : Two or more factors each of which with atleast two levels. Levels can be dependent , independant or both.\n",
    "'''"
   ]
  },
  {
   "cell_type": "code",
   "execution_count": null,
   "metadata": {},
   "outputs": [],
   "source": [
    "# 5. Explain when and why you would use a one-way ANOVA instead of multiple t-tests when comparing more than two groups.\n",
    "'''\n",
    "One factor with atleast two levels and levels are independent.\n",
    "'''"
   ]
  },
  {
   "cell_type": "code",
   "execution_count": null,
   "metadata": {},
   "outputs": [],
   "source": [
    "# 6. Explain how variance is partitioned in ANOVA into between-group variance and within-group variance. How does this partitioning contribute to the calculation of the F-statistic?\n",
    "'''\n",
    "the core of the ANOVA test — the F statistic — is calculated by dividing the between group variance by the within group variance. If the variance caused by interactions between different samples is much greater than the variance found inside values in a single group, that indicates the means aren’t equal\n",
    "'''"
   ]
  },
  {
   "cell_type": "code",
   "execution_count": null,
   "metadata": {},
   "outputs": [],
   "source": [
    "# 7. Compare the classical (frequentist) approach to ANOVA with the Bayesian approach. What are the key differences in terms of how they handle uncertainty, parameter estimation, and hypothesis testing?\n",
    "'''\n",
    "Frequentist Approach:\n",
    "Treatment of Probability = Considers probability as limiting frequencies of events.\n",
    "Interpretation = Objective, data-driven interpretation.\n",
    "\n",
    "Bayesian Approach:\n",
    "Treatment of Probability = Interprets probability as a measure of belief or uncertainty.\n",
    "Interpretation = Subjective, incorporating prior beliefs and data.\n",
    "'''"
   ]
  },
  {
   "cell_type": "code",
   "execution_count": 8,
   "metadata": {},
   "outputs": [
    {
     "name": "stdout",
     "output_type": "stream",
     "text": [
      "Reject the Ho\n"
     ]
    }
   ],
   "source": [
    "# 8. Question: You have two sets of data representing the incomes of two different professions1\n",
    "# V Profession A: [48, 52, 55, 60, 62'\n",
    "# V Profession B: [45, 50, 55, 52, 47] Perform an F-test to determine if the variances of the two professions'\n",
    "# incomes are equal. What are your conclusions based on the F-test?\n",
    "\n",
    "# Task: Use Python to calculate the F-statistic and p-value for the given data.\n",
    "\n",
    "# Objective: Gain experience in performing F-tests and interpreting the results in terms of variance comparison.\n",
    "\n",
    "import numpy as np\n",
    "import scipy.stats as stats\n",
    "v = [48,52,55,60,62]\n",
    "v2 = [45,50,55,52,47]\n",
    "fstats = np.var(v)/np.var(v2)\n",
    "df1 = len(v) - 1\n",
    "df2 = len(v2) - 1\n",
    "alpha = 0.5\n",
    "p_value = stats.f.ppf(q = 1-alpha , dfn = df1 , dfd = df2)\n",
    "if fstats > p_value:\n",
    "    print(\"Reject the Ho\")\n",
    "else :\n",
    "    print(\"Fail to reject Ho\")"
   ]
  },
  {
   "cell_type": "code",
   "execution_count": 12,
   "metadata": {},
   "outputs": [
    {
     "data": {
      "text/plain": [
       "2.870664187937026e-07"
      ]
     },
     "execution_count": 12,
     "metadata": {},
     "output_type": "execute_result"
    }
   ],
   "source": [
    "# 9. Question: Conduct a one-way ANOVA to test whether there are any statistically significant differences in\n",
    "# average heights between three different regions with the following data1\n",
    "# V Region A: [160, 162, 165, 158, 164]\n",
    "# V Region B: [172, 175, 170, 168, 174]\n",
    "# V Region C: [180, 182, 179, 185, 183]\n",
    "# V Task: Write Python code to perform the one-way ANOVA and interpret the results.\n",
    "# V Objective: Learn how to perform one-way ANOVA using Python and interpret F-statistic and p-value\n",
    "\n",
    "a = [160, 162, 165, 158, 164]\n",
    "b = [172, 175, 170, 168, 174]\n",
    "c = [180, 182, 179, 185, 183]\n",
    "\n",
    "fstats , p_value = stats.f_oneway(a,b,c)\n",
    "fstats\n",
    "p_value"
   ]
  },
  {
   "cell_type": "code",
   "execution_count": null,
   "metadata": {},
   "outputs": [],
   "source": []
  }
 ],
 "metadata": {
  "kernelspec": {
   "display_name": "base",
   "language": "python",
   "name": "python3"
  },
  "language_info": {
   "codemirror_mode": {
    "name": "ipython",
    "version": 3
   },
   "file_extension": ".py",
   "mimetype": "text/x-python",
   "name": "python",
   "nbconvert_exporter": "python",
   "pygments_lexer": "ipython3",
   "version": "3.11.5"
  }
 },
 "nbformat": 4,
 "nbformat_minor": 2
}
